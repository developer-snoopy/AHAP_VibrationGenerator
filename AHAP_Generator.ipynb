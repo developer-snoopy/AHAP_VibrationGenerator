{
 "cells": [
  {
   "cell_type": "code",
   "execution_count": null,
   "metadata": {},
   "outputs": [],
   "source": [
    "# The vibration pattern is based on the VibViz library created by Hasti Seifi\n",
    "# If you want to obtain the detailed information about the VibViz library, please access the following link\n",
    "# Link: [https://ieeexplore.ieee.org/abstract/document/7177722]"
   ]
  },
  {
   "cell_type": "markdown",
   "metadata": {},
   "source": [
    "# Dependency List"
   ]
  },
  {
   "cell_type": "code",
   "execution_count": null,
   "metadata": {},
   "outputs": [],
   "source": [
    "import numpy as np\n",
    "import matplotlib.pyplot as plt\n",
    "from scipy.io import wavfile\n",
    "from scipy import signal\n",
    "import os"
   ]
  },
  {
   "cell_type": "markdown",
   "metadata": {},
   "source": [
    "# 1. Prepare the files\n",
    "\n",
    "### 1.1. List up the wav files\n",
    "\n",
    "##### 1.1.1. Indexing the vibration patterns"
   ]
  },
  {
   "cell_type": "code",
   "execution_count": null,
   "metadata": {},
   "outputs": [],
   "source": [
    "# Indexing the vibration patterns as follows\n",
    "\n",
    "# metaphor_based_vibration_index = {\n",
    "#     'v-09-11-3-12' : 0,           # Alarm 1\n",
    "#     'v-10-21-3-45' : 1,           # Alarm 2\n",
    "#     'v-09-12-1-19' : 2,           # Animal 1\n",
    "#     'v-10-28-7-35' : 3,           # Animal 2\n",
    "#     'v-09-11-3-24' : 4,           # Engine 1\n",
    "#     'v-09-11-3-8'  : 5,           # Engine 2\n",
    "#     'v-09-18-1-55' : 6,           # Heartbeat 1\n",
    "#     'v-09-10-4-20' : 7,           # Heartbeat 2\n",
    "#     'v-09-11-3-50' : 8,           # Jumping 1\n",
    "#     'v-10-28-7-31' : 9,           # Jumping 2\n",
    "#     'v-09-10-7-9'  : 10,          # Tapping 1\n",
    "#     'v-09-11-4-8'  : 11,          # Tapping 2\n",
    "#     'v-10-10-1-10' : 12,          # Walking 1\n",
    "#     'v-09-12-2-40' : 13,          # Walking 2\n",
    "# }\n",
    "\n",
    "metaphor_based_vibration_index = {\n",
    "    0 : 'v-09-11-3-12',           # Alarm 1\n",
    "    1 : 'v-10-21-3-45',           # Alarm 2\n",
    "    2 : 'v-09-12-1-19',           # Animal 1\n",
    "    3 : 'v-10-28-7-35',           # Animal 2\n",
    "    4 : 'v-09-11-3-24',           # Engine 1\n",
    "    5 : 'v-09-11-3-8',           # Engine 2\n",
    "    6 : 'v-09-18-1-55',           # Heartbeat 1\n",
    "    7 : 'v-09-10-4-20',           # Heartbeat 2\n",
    "    8 : 'v-09-11-3-50',           # Jumping 1\n",
    "    9 : 'v-10-28-7-31',           # Jumping 2\n",
    "    10 : 'v-09-10-7-9',          # Tapping 1\n",
    "    11 : 'v-09-11-4-8',          # Tapping 2\n",
    "    12 : 'v-10-10-1-10',          # Walking 1\n",
    "    13 : 'v-09-12-2-40',          # Walking 2\n",
    "}"
   ]
  },
  {
   "cell_type": "markdown",
   "metadata": {},
   "source": [
    "### 1.2. Read wav files"
   ]
  },
  {
   "cell_type": "code",
   "execution_count": null,
   "metadata": {},
   "outputs": [],
   "source": [
    "def READ_wavfile_information(filename):\n",
    "\n",
    "    from scipy.io import wavfile\n",
    "\n",
    "    # Read the original wav file\n",
    "    # wav = r'.\\wavfile\\v-09-11-3-50.wav'\n",
    "\n",
    "    wav = r'.\\wavfile\\{}.wav'.format(filename)\n",
    "    (file_dir, file_id) = os.path.split(wav)\n",
    "\n",
    "    # print(\"Path: {}\".format(file_dir))\n",
    "    # print(\"Name: {}\".format(file_id))\n",
    "\n",
    "    sampling_rate, data = wavfile.read(wav)\n",
    "\n",
    "    # print(\"Sample rate: {0}, data size: {1}, duration: {2} seconds\".format(sampling_rate, data.shape, len(data)/sampling_rate))\n",
    "\n",
    "    return sampling_rate, data\n",
    "\n",
    "# Test the defined function: READ_wavfile_information\n",
    "# READ_wavfile_information(metaphor_based_vibration_index[0])"
   ]
  },
  {
   "cell_type": "markdown",
   "metadata": {},
   "source": [
    "### 1.3. Plot the wav files"
   ]
  },
  {
   "cell_type": "code",
   "execution_count": null,
   "metadata": {},
   "outputs": [],
   "source": [
    "def TemporalPlot_wavfile(filename):\n",
    "\n",
    "    import numpy as np\n",
    "\n",
    "    READ_wavfile_information(filename)\n",
    "\n",
    "    # Recall the sampling_rate and data\n",
    "    sampling_rate = READ_wavfile_information(filename)[0]\n",
    "    data = READ_wavfile_information(filename)[1]\n",
    "\n",
    "    print(\"Sample rate: {0}, data size: {1}, duration: {2} seconds\".format(sampling_rate, data.shape, len(data)/sampling_rate))\n",
    "\n",
    "    time = np.linspace(0, len(data)/sampling_rate, len(data))\n",
    "\n",
    "    plt.figure(figsize = (20, 10))\n",
    "    plt.plot(time, data)\n",
    "    plt.xticks(fontsize = 25)\n",
    "    plt.yticks(fontsize = 25)\n",
    "    plt.xlabel(\"Amplitude\", fontsize = 35, weight = \"bold\", labelpad = 20)\n",
    "    plt.ylabel(\"Time [s]\", fontsize = 35, weight = \"bold\", labelpad = 20)\n",
    "    plt.title(\"Amplitude - Time [s]\", fontsize = 35, weight = \"bold\", pad = 20)\n",
    "    plt.show()\n",
    "\n",
    "# Test the defined function: TemporalPlot_wavfile\n",
    "TemporalPlot_wavfile(metaphor_based_vibration_index[0])"
   ]
  },
  {
   "cell_type": "markdown",
   "metadata": {},
   "source": [
    "### 1.4. Fast Fourier Transform"
   ]
  },
  {
   "cell_type": "code",
   "execution_count": null,
   "metadata": {},
   "outputs": [],
   "source": [
    "def FFTPlot_wavfile(filename):\n",
    "\n",
    "    import numpy as np\n",
    "\n",
    "    READ_wavfile_information(filename)\n",
    "\n",
    "    # Recall the sampling_rate and data\n",
    "    sampling_rate = READ_wavfile_information(filename)[0]\n",
    "    data = READ_wavfile_information(filename)[1]\n",
    "\n",
    "    print(\"Sample rate: {0}, data size: {1}, duration: {2} seconds\".format(sampling_rate, data.shape, len(data)/sampling_rate))\n",
    "\n",
    "    fft = np.fft.fft(data)\n",
    "    magnitude = np.abs(fft)\n",
    "\n",
    "    f = np.linspace(0, sampling_rate, len(magnitude), endpoint = False)\n",
    "    left_spectrum = magnitude[:int(len(magnitude)/2)]\n",
    "    left_f = f[:int(len(magnitude)/2)]\n",
    "\n",
    "    plt.figure(figsize = (20, 10))\n",
    "\n",
    "    plt.plot(left_f, left_spectrum)\n",
    "    plt.xlim(0 , 500)\n",
    "    plt.xlabel(\"Frequency (Hz)\", fontsize = 35, weight = \"bold\", labelpad = 20)\n",
    "    plt.ylabel(\"Magnitude\", fontsize = 35, weight = \"bold\", labelpad = 10)\n",
    "    plt.title(\"Power Spectrum\", fontsize = 35, weight = \"bold\", pad = 20)\n",
    "    plt.show()\n",
    "\n",
    "# Test the defined function: TemporalPlot_wavfile\n",
    "FFTPlot_wavfile(metaphor_based_vibration_index[0])"
   ]
  },
  {
   "cell_type": "markdown",
   "metadata": {},
   "source": [
    "# 2. Generate the .AHAP file\n",
    "\n",
    "### 2.1. Control the Envelope"
   ]
  },
  {
   "cell_type": "code",
   "execution_count": null,
   "metadata": {},
   "outputs": [],
   "source": [
    "duration = 1.75\n",
    "\n",
    "point = np.array([0, 0.25, 0.5, 0.75, 1.0, 1.25, 1.5, 1.75])\n",
    "amp = np.array([1, 0, 1, 0, 1, 0, 1, 0])\n",
    "\n",
    "sampling_rate = 10000\n",
    "\n",
    "pint_sample = point * sampling_rate\n",
    "\n",
    "time = np.linspace(0, duration, int(sampling_rate * duration))\n",
    "\n",
    "print(pint_sample, amp)\n",
    "print(len(time))"
   ]
  },
  {
   "cell_type": "markdown",
   "metadata": {},
   "source": [
    "##### 2.2.1. Make an Amplitude List"
   ]
  },
  {
   "cell_type": "code",
   "execution_count": null,
   "metadata": {},
   "outputs": [],
   "source": [
    "amp_list = []\n",
    "\n",
    "n = 0\n",
    "\n",
    "for i in range(len(time)):   \n",
    "    if n == len(point):\n",
    "        break\n",
    "    elif i >= pint_sample[n] and i < pint_sample[n+1]:\n",
    "        \n",
    "        if amp[n] < amp[n+1]:\n",
    "            temp = 0\n",
    "        else:\n",
    "            temp = amp[n] - (((amp[n] - amp[n+1]) / (pint_sample[n+1] - pint_sample[n])) * (i - pint_sample[n]))**2\n",
    "        \n",
    "        amp_list.append(temp)\n",
    "    else:\n",
    "        n += 1\n",
    "        \n",
    "        if amp[n] < amp[n+1]:\n",
    "            temp = 0\n",
    "        else:\n",
    "            temp = amp[n] - (((amp[n] - amp[n+1]) / (pint_sample[n+1] - pint_sample[n])) * (i - pint_sample[n]))**2\n",
    "        \n",
    "        amp_list.append(temp)"
   ]
  },
  {
   "cell_type": "markdown",
   "metadata": {},
   "source": [
    "##### 2.2.2. Plot the Envelope"
   ]
  },
  {
   "cell_type": "code",
   "execution_count": null,
   "metadata": {},
   "outputs": [],
   "source": [
    "plt.figure(figsize = (20, 10))\n",
    "plt.plot(time, amp_list)\n",
    "plt.xlabel(\"Time (s)\", fontsize = 35, weight = \"bold\", labelpad = 20)\n",
    "plt.ylabel(\"Amplitude\", fontsize = 35, weight = \"bold\", labelpad = 20)\n",
    "plt.title(\"Amplitude - Time[s]\", fontsize = 35, weight = \"bold\", pad = 20)\n",
    "plt.show()"
   ]
  },
  {
   "cell_type": "markdown",
   "metadata": {},
   "source": [
    "### 2.2. Generate the AHAP Format"
   ]
  },
  {
   "cell_type": "markdown",
   "metadata": {},
   "source": [
    "##### 2.2.1. Read the .AHAP Format (json file)"
   ]
  },
  {
   "cell_type": "code",
   "execution_count": 62,
   "metadata": {},
   "outputs": [
    {
     "name": "stdout",
     "output_type": "stream",
     "text": [
      "./AHAP_files/v-09-11-3-12.ahap\n",
      "<class 'dict'>\n",
      "{'Version': 1.0, 'Metadata': {'Project': 'v-09-11-3-12', 'Created': 'hs@di.ku.dk', 'Description': ''}, 'Pattern': [{'ParameterCurve': {'ParameterID': 'HapticIntensityControl', 'Time': 0.0, 'ParameterCurveControlPoints': [{'Time': 0.0, 'ParameterValue': 0.0}, {'Time': 0.005211248, 'ParameterValue': 0.0}, {'Time': 0.0053996127, 'ParameterValue': 1.0}, {'Time': 0.010022676, 'ParameterValue': 1.0}, {'Time': 0.014683556, 'ParameterValue': 0.95929325}, {'Time': 0.020243859, 'ParameterValue': 0.9784701}, {'Time': 0.024387492, 'ParameterValue': 1.0}, {'Time': 0.029888157, 'ParameterValue': 0.9989955}, {'Time': 0.035011336, 'ParameterValue': 0.95519274}, {'Time': 0.039151303, 'ParameterValue': 0.9795298}, {'Time': 0.044557597, 'ParameterValue': 0.9966003}, {'Time': 0.05, 'ParameterValue': 1.0}, {'Time': 0.055050284, 'ParameterValue': 0.9603466}, {'Time': 0.062077507, 'ParameterValue': 0.98157465}, {'Time': 0.064544335, 'ParameterValue': 1.0}, {'Time': 0.06923301, 'ParameterValue': 0.9959709}]}}, {'ParameterCurve': {'ParameterID': 'HapticIntensityControl', 'Time': 0.06923301, 'ParameterCurveControlPoints': [{'Time': 0.06923301, 'ParameterValue': 0.9959709}, {'Time': 0.075011335, 'ParameterValue': 0.9509378}, {'Time': 0.07920054, 'ParameterValue': 0.97952175}, {'Time': 0.083980985, 'ParameterValue': 0.9954302}, {'Time': 0.090022676, 'ParameterValue': 1.0}, {'Time': 0.09468356, 'ParameterValue': 0.9550484}, {'Time': 0.10501134, 'ParameterValue': 1.0}, {'Time': 0.109452635, 'ParameterValue': 0.99693274}, {'Time': 0.115011334, 'ParameterValue': 0.9509286}, {'Time': 0.11897074, 'ParameterValue': 0.9743326}, {'Time': 0.12358774, 'ParameterValue': 0.9947077}, {'Time': 0.13002267, 'ParameterValue': 1.0}, {'Time': 0.13505028, 'ParameterValue': 0.95611924}, {'Time': 0.14501134, 'ParameterValue': 1.0}, {'Time': 0.14945883, 'ParameterValue': 0.99594545}, {'Time': 0.15537807, 'ParameterValue': 0.95306224}]}}, {'ParameterCurve': {'ParameterID': 'HapticIntensityControl', 'Time': 0.15537807, 'ParameterCurveControlPoints': [{'Time': 0.15537807, 'ParameterValue': 0.95306224}, {'Time': 0.15920639, 'ParameterValue': 0.9764511}, {'Time': 0.16411132, 'ParameterValue': 0.99464756}, {'Time': 0.17002267, 'ParameterValue': 1.0}, {'Time': 0.175417, 'ParameterValue': 0.95716697}, {'Time': 0.18501133, 'ParameterValue': 1.0}, {'Time': 0.18896775, 'ParameterValue': 1.0}, {'Time': 0.19519469, 'ParameterValue': 0.9520012}, {'Time': 0.200059, 'ParameterValue': 0.9825664}, {'Time': 0.2048681, 'ParameterValue': 0.99676144}, {'Time': 0.21002267, 'ParameterValue': 1.0}, {'Time': 0.21560039, 'ParameterValue': 0.956116}, {'Time': 0.22501133, 'ParameterValue': 1.0}, {'Time': 0.22914961, 'ParameterValue': 1.0}, {'Time': 0.23482798, 'ParameterValue': 0.9509328}, {'Time': 0.23968773, 'ParameterValue': 0.9784998}]}}, {'ParameterCurve': {'ParameterID': 'HapticIntensityControl', 'Time': 0.23968773, 'ParameterCurveControlPoints': [{'Time': 0.23968773, 'ParameterValue': 0.9784998}, {'Time': 0.24482797, 'ParameterValue': 0.99719495}, {'Time': 0.2607493, 'ParameterValue': 0.99858344}, {'Time': 0.2649667, 'ParameterValue': 0.9863773}, {'Time': 0.26936746, 'ParameterValue': 0.9971413}, {'Time': 0.2844416, 'ParameterValue': 0.9945261}, {'Time': 0.2893924, 'ParameterValue': 0.9979353}, {'Time': 0.30008557, 'ParameterValue': 0.9986769}, {'Time': 0.30430296, 'ParameterValue': 0.987536}, {'Time': 0.30907044, 'ParameterValue': 0.99601626}, {'Time': 0.32649007, 'ParameterValue': 0.99212897}, {'Time': 0.32869044, 'ParameterValue': 0.9979587}, {'Time': 0.34005904, 'ParameterValue': 0.99972755}, {'Time': 0.34482652, 'ParameterValue': 0.9876338}, {'Time': 0.3491895, 'ParameterValue': 0.9944644}, {'Time': 0.35855463, 'ParameterValue': 0.9979695}]}}, {'ParameterCurve': {'ParameterID': 'HapticIntensityControl', 'Time': 0.35855463, 'ParameterCurveControlPoints': [{'Time': 0.35855463, 'ParameterValue': 0.9979695}, {'Time': 0.36674052, 'ParameterValue': 0.9941694}, {'Time': 0.36875752, 'ParameterValue': 0.99809796}, {'Time': 0.37942946, 'ParameterValue': 1.0}, {'Time': 0.38511375, 'ParameterValue': 0.9879257}, {'Time': 0.3892615, 'ParameterValue': 0.9954139}, {'Time': 0.4046089, 'ParameterValue': 0.9947597}, {'Time': 0.40992647, 'ParameterValue': 0.99957836}, {'Time': 0.42037827, 'ParameterValue': 1.0}, {'Time': 0.42496237, 'ParameterValue': 0.9873708}, {'Time': 0.42954648, 'ParameterValue': 0.997165}, {'Time': 0.43608996, 'ParameterValue': 0.9955824}, {'Time': 0.4465994, 'ParameterValue': 0.99446034}, {'Time': 0.45999998, 'ParameterValue': 1.0}, {'Time': 0.48311833, 'ParameterValue': 0.9919374}, {'Time': 0.48602277, 'ParameterValue': 0.9953448}]}}, {'ParameterCurve': {'ParameterID': 'HapticIntensityControl', 'Time': 0.48602277, 'ParameterCurveControlPoints': [{'Time': 0.48602277, 'ParameterValue': 0.9953448}, {'Time': 0.4884065, 'ParameterValue': 0.99857736}, {'Time': 0.5014083, 'ParameterValue': 0.9993281}, {'Time': 0.5054423, 'ParameterValue': 0.9943484}, {'Time': 0.5096597, 'ParameterValue': 0.99964744}, {'Time': 0.5147939, 'ParameterValue': 0.95594376}, {'Time': 0.5250113, 'ParameterValue': 1.0}, {'Time': 0.52941906, 'ParameterValue': 0.9949234}, {'Time': 0.53501135, 'ParameterValue': 0.9509344}, {'Time': 0.5403069, 'ParameterValue': 0.9815607}, {'Time': 0.5439826, 'ParameterValue': 0.9967897}, {'Time': 0.55, 'ParameterValue': 1.0}, {'Time': 0.5550503, 'ParameterValue': 0.9571767}, {'Time': 0.5650113, 'ParameterValue': 1.0}, {'Time': 0.5699547, 'ParameterValue': 0.9979634}, {'Time': 0.5750113, 'ParameterValue': 0.9509239}]}}, {'ParameterCurve': {'ParameterID': 'HapticIntensityControl', 'Time': 0.5750113, 'ParameterCurveControlPoints': [{'Time': 0.5750113, 'ParameterValue': 0.9509239}, {'Time': 0.5799361, 'ParameterValue': 0.9825752}, {'Time': 0.58484966, 'ParameterValue': 0.9976977}, {'Time': 0.59, 'ParameterValue': 1.0}, {'Time': 0.5946835, 'ParameterValue': 0.9550459}, {'Time': 0.60501134, 'ParameterValue': 1.0}, {'Time': 0.6099227, 'ParameterValue': 0.9949285}, {'Time': 0.61501133, 'ParameterValue': 0.9509286}, {'Time': 0.6203743, 'ParameterValue': 0.9795488}, {'Time': 0.62384343, 'ParameterValue': 0.99645996}, {'Time': 0.63, 'ParameterValue': 1.0}, {'Time': 0.6353943, 'ParameterValue': 0.9551058}, {'Time': 0.6407036, 'ParameterValue': 0.97428125}, {'Time': 0.6450113, 'ParameterValue': 1.0}, {'Time': 0.64962256, 'ParameterValue': 0.9969233}, {'Time': 0.6550113, 'ParameterValue': 0.9509389}]}}, {'ParameterCurve': {'ParameterID': 'HapticIntensityControl', 'Time': 0.6550113, 'ParameterCurveControlPoints': [{'Time': 0.6550113, 'ParameterValue': 0.9509389}, {'Time': 0.6600693, 'ParameterValue': 0.98051226}, {'Time': 0.6639283, 'ParameterValue': 0.9958952}, {'Time': 0.67, 'ParameterValue': 1.0}, {'Time': 0.67576104, 'ParameterValue': 0.955089}, {'Time': 0.6850113, 'ParameterValue': 1.0}, {'Time': 0.69000995, 'ParameterValue': 0.9959389}, {'Time': 0.6950113, 'ParameterValue': 0.95092845}, {'Time': 0.70011353, 'ParameterValue': 0.9805348}, {'Time': 0.7048048, 'ParameterValue': 0.9961896}, {'Time': 0.71, 'ParameterValue': 1.0}, {'Time': 0.7153944, 'ParameterValue': 0.9572278}, {'Time': 0.72501135, 'ParameterValue': 1.0}, {'Time': 0.7296967, 'ParameterValue': 0.99799216}, {'Time': 0.73501134, 'ParameterValue': 0.9509313}, {'Time': 0.7450113, 'ParameterValue': 0.99618214}]}}, {'ParameterCurve': {'ParameterID': 'HapticIntensityControl', 'Time': 0.7450113, 'ParameterCurveControlPoints': [{'Time': 0.7450113, 'ParameterValue': 0.99618214}, {'Time': 0.7594986, 'ParameterValue': 1.0}, {'Time': 0.76463276, 'ParameterValue': 0.9908221}, {'Time': 0.7709138, 'ParameterValue': 0.9949161}, {'Time': 0.785353, 'ParameterValue': 0.9938149}, {'Time': 0.78920364, 'ParameterValue': 1.0}, {'Time': 0.79965544, 'ParameterValue': 1.0}, {'Time': 0.80570644, 'ParameterValue': 0.98641425}, {'Time': 0.80955714, 'ParameterValue': 0.99390805}, {'Time': 0.826226, 'ParameterValue': 0.9927003}, {'Time': 0.8284608, 'ParameterValue': 0.99857104}, {'Time': 0.84041774, 'ParameterValue': 1.0}, {'Time': 0.8450019, 'ParameterValue': 0.986828}, {'Time': 0.8493924, 'ParameterValue': 0.99824107}, {'Time': 0.8638291, 'ParameterValue': 0.9911273}, {'Time': 0.869234, 'ParameterValue': 1.0}]}}, {'ParameterCurve': {'ParameterID': 'HapticIntensityControl', 'Time': 0.869234, 'ParameterCurveControlPoints': [{'Time': 0.869234, 'ParameterValue': 1.0}, {'Time': 0.87981665, 'ParameterValue': 0.9979695}, {'Time': 0.88502336, 'ParameterValue': 0.9871617}, {'Time': 0.8890661, 'ParameterValue': 0.99654424}, {'Time': 0.90483546, 'ParameterValue': 0.99381053}, {'Time': 0.9086861, 'ParameterValue': 0.9995701}, {'Time': 0.919688, 'ParameterValue': 1.0}, {'Time': 0.92445546, 'ParameterValue': 0.9873883}, {'Time': 0.92977303, 'ParameterValue': 0.9963046}, {'Time': 0.9449293, 'ParameterValue': 0.99317265}, {'Time': 0.9483311, 'ParameterValue': 0.99894166}, {'Time': 0.95977616, 'ParameterValue': 1.0}, {'Time': 0.9649693, 'ParameterValue': 0.98764163}, {'Time': 0.9695534, 'ParameterValue': 0.9957279}, {'Time': 0.9858461, 'ParameterValue': 0.99419785}, {'Time': 0.9890283, 'ParameterValue': 0.99962646}]}}, {'ParameterCurve': {'ParameterID': 'HapticIntensityControl', 'Time': 0.9890283, 'ParameterCurveControlPoints': [{'Time': 0.9890283, 'ParameterValue': 0.99962646}, {'Time': 1.0009977, 'ParameterValue': 1.0}, {'Time': 1.0019954, 'ParameterValue': 0.99797773}, {'Time': 1.00945, 'ParameterValue': 1.0}, {'Time': 1.0152109, 'ParameterValue': 0.95616955}, {'Time': 1.0250113, 'ParameterValue': 1.0}, {'Time': 1.0301486, 'ParameterValue': 0.994942}, {'Time': 1.0350113, 'ParameterValue': 0.9509346}, {'Time': 1.0417742, 'ParameterValue': 0.98569894}, {'Time': 1.0447524, 'ParameterValue': 0.9960571}, {'Time': 1.0502533, 'ParameterValue': 0.9999623}, {'Time': 1.0548373, 'ParameterValue': 0.9568962}, {'Time': 1.0612234, 'ParameterValue': 0.9773859}, {'Time': 1.0650113, 'ParameterValue': 1.0}, {'Time': 1.0697657, 'ParameterValue': 0.99590045}, {'Time': 1.0750114, 'ParameterValue': 0.95093167}]}}, {'ParameterCurve': {'ParameterID': 'HapticIntensityControl', 'Time': 1.0750114, 'ParameterCurveControlPoints': [{'Time': 1.0750114, 'ParameterValue': 0.95093167}, {'Time': 1.079808, 'ParameterValue': 0.9784615}, {'Time': 1.0844686, 'ParameterValue': 0.9958867}, {'Time': 1.09, 'ParameterValue': 1.0}, {'Time': 1.0953944, 'ParameterValue': 0.9551112}, {'Time': 1.1050113, 'ParameterValue': 1.0}, {'Time': 1.1097838, 'ParameterValue': 0.9959507}, {'Time': 1.1150113, 'ParameterValue': 0.9509321}, {'Time': 1.1194541, 'ParameterValue': 0.97848576}, {'Time': 1.124332, 'ParameterValue': 0.9958913}, {'Time': 1.13, 'ParameterValue': 1.0}, {'Time': 1.1350503, 'ParameterValue': 0.9561189}, {'Time': 1.1450113, 'ParameterValue': 1.0}, {'Time': 1.1497853, 'ParameterValue': 0.99594873}, {'Time': 1.1550113, 'ParameterValue': 0.950942}, {'Time': 1.1591444, 'ParameterValue': 0.9774554}]}}, {'ParameterCurve': {'ParameterID': 'HapticIntensityControl', 'Time': 1.1591444, 'ParameterCurveControlPoints': [{'Time': 1.1591444, 'ParameterValue': 0.9774554}, {'Time': 1.1643745, 'ParameterValue': 0.9978354}, {'Time': 1.17, 'ParameterValue': 1.0}, {'Time': 1.1752337, 'ParameterValue': 0.95611656}, {'Time': 1.1850113, 'ParameterValue': 1.0}, {'Time': 1.1895752, 'ParameterValue': 0.9959375}, {'Time': 1.1950113, 'ParameterValue': 0.9509374}, {'Time': 1.1990602, 'ParameterValue': 0.9774304}, {'Time': 1.2047126, 'ParameterValue': 0.99794346}, {'Time': 1.2100227, 'ParameterValue': 1.0}, {'Time': 1.2148669, 'ParameterValue': 0.9571806}, {'Time': 1.2250113, 'ParameterValue': 1.0}, {'Time': 1.2300136, 'ParameterValue': 0.99897665}, {'Time': 1.2350113, 'ParameterValue': 0.9509398}, {'Time': 1.2399815, 'ParameterValue': 0.97845525}, {'Time': 1.2450113, 'ParameterValue': 0.9961715}]}}, {'ParameterCurve': {'ParameterID': 'HapticIntensityControl', 'Time': 1.2450113, 'ParameterCurveControlPoints': [{'Time': 1.2450113, 'ParameterValue': 0.9961715}, {'Time': 1.2477939, 'ParameterValue': 1.0}, {'Time': 1.2598959, 'ParameterValue': 1.0}, {'Time': 1.2652135, 'ParameterValue': 0.98672247}, {'Time': 1.2694309, 'ParameterValue': 0.99845135}, {'Time': 1.2753564, 'ParameterValue': 0.994563}, {'Time': 1.3000226, 'ParameterValue': 1.0}, {'Time': 1.3244019, 'ParameterValue': 0.99499196}, {'Time': 1.3295312, 'ParameterValue': 0.9996287}, {'Time': 1.3400227, 'ParameterValue': 1.0}, {'Time': 1.3631183, 'ParameterValue': 0.99192315}, {'Time': 1.3691312, 'ParameterValue': 0.9997136}, {'Time': 1.3800226, 'ParameterValue': 1.0}, {'Time': 1.3851751, 'ParameterValue': 0.9884059}, {'Time': 1.3897592, 'ParameterValue': 0.99658084}, {'Time': 1.4046117, 'ParameterValue': 0.9931234}]}}, {'ParameterCurve': {'ParameterID': 'HapticIntensityControl', 'Time': 1.4046117, 'ParameterCurveControlPoints': [{'Time': 1.4046117, 'ParameterValue': 0.9931234}, {'Time': 1.4090124, 'ParameterValue': 0.9998538}, {'Time': 1.4200144, 'ParameterValue': 0.99959284}, {'Time': 1.4247818, 'ParameterValue': 0.98744214}, {'Time': 1.4295493, 'ParameterValue': 0.99640113}, {'Time': 1.444402, 'ParameterValue': 0.992961}, {'Time': 1.4482626, 'ParameterValue': 0.9997729}, {'Time': 1.4598145, 'ParameterValue': 0.9997185}, {'Time': 1.4647654, 'ParameterValue': 0.9886698}, {'Time': 1.4693495, 'ParameterValue': 0.99618596}, {'Time': 1.4845852, 'ParameterValue': 0.9929611}, {'Time': 1.4881291, 'ParameterValue': 0.998575}, {'Time': 1.510912, 'ParameterValue': 0.9994691}, {'Time': 1.5158628, 'ParameterValue': 0.9560519}, {'Time': 1.525034, 'ParameterValue': 1.0}, {'Time': 1.5296384, 'ParameterValue': 0.9949395}]}}, {'ParameterCurve': {'ParameterID': 'HapticIntensityControl', 'Time': 1.5296384, 'ParameterCurveControlPoints': [{'Time': 1.5296384, 'ParameterValue': 0.9949395}, {'Time': 1.535034, 'ParameterValue': 0.95082986}, {'Time': 1.5402012, 'ParameterValue': 0.9784236}, {'Time': 1.5442035, 'ParameterValue': 0.99502075}, {'Time': 1.5500226, 'ParameterValue': 1.0}, {'Time': 1.5557837, 'ParameterValue': 0.95717615}, {'Time': 1.565034, 'ParameterValue': 1.0}, {'Time': 1.569872, 'ParameterValue': 0.9948996}, {'Time': 1.575034, 'ParameterValue': 0.95081943}, {'Time': 1.5793256, 'ParameterValue': 0.9774115}, {'Time': 1.5843744, 'ParameterValue': 0.9961996}, {'Time': 1.5900227, 'ParameterValue': 1.0}, {'Time': 1.5952563, 'ParameterValue': 0.95711464}, {'Time': 1.605034, 'ParameterValue': 1.0}, {'Time': 1.6091895, 'ParameterValue': 0.99594855}, {'Time': 1.615034, 'ParameterValue': 0.9508304}]}}, {'ParameterCurve': {'ParameterID': 'HapticIntensityControl', 'Time': 1.615034, 'ParameterCurveControlPoints': [{'Time': 1.615034, 'ParameterValue': 0.9508304}, {'Time': 1.6198164, 'ParameterValue': 0.97847617}, {'Time': 1.6248434, 'ParameterValue': 0.99717134}, {'Time': 1.6300226, 'ParameterValue': 1.0}, {'Time': 1.6354395, 'ParameterValue': 0.95500475}, {'Time': 1.645034, 'ParameterValue': 1.0}, {'Time': 1.6491047, 'ParameterValue': 0.9979821}, {'Time': 1.655034, 'ParameterValue': 0.9508227}, {'Time': 1.6605335, 'ParameterValue': 0.9815752}, {'Time': 1.6649406, 'ParameterValue': 0.9959917}, {'Time': 1.6700226, 'ParameterValue': 1.0}, {'Time': 1.6750729, 'ParameterValue': 0.95499897}, {'Time': 1.685034, 'ParameterValue': 1.0}, {'Time': 1.6896795, 'ParameterValue': 0.99494576}, {'Time': 1.695034, 'ParameterValue': 0.95082456}, {'Time': 1.6992563, 'ParameterValue': 0.97644895}]}}, {'ParameterCurve': {'ParameterID': 'HapticIntensityControl', 'Time': 1.6992563, 'ParameterCurveControlPoints': [{'Time': 1.6992563, 'ParameterValue': 0.97644895}, {'Time': 1.7043327, 'ParameterValue': 0.9945892}, {'Time': 1.7100453, 'ParameterValue': 1.0}, {'Time': 1.7148895, 'ParameterValue': 0.95606744}, {'Time': 1.7205172, 'ParameterValue': 0.97540057}, {'Time': 1.725034, 'ParameterValue': 1.0}, {'Time': 1.729655, 'ParameterValue': 0.99493134}, {'Time': 1.735034, 'ParameterValue': 0.95083165}, {'Time': 1.7396486, 'ParameterValue': 0.9774139}, {'Time': 1.7441773, 'ParameterValue': 0.995727}, {'Time': 1.7500453, 'ParameterValue': 1.0}, {'Time': 1.786869, 'ParameterValue': 0.99332297}, {'Time': 1.7899863, 'ParameterValue': 0.9999144}, {'Time': 1.7992309, 'ParameterValue': 1.0}, {'Time': 1.8035553, 'ParameterValue': 0.98878086}, {'Time': 1.8094229, 'ParameterValue': 0.9954804}]}}, {'ParameterCurve': {'ParameterID': 'HapticIntensityControl', 'Time': 1.8094229, 'ParameterCurveControlPoints': [{'Time': 1.8094229, 'ParameterValue': 0.9954804}, {'Time': 1.8257424, 'ParameterValue': 0.9956495}, {'Time': 1.8292263, 'ParameterValue': 0.9979638}, {'Time': 1.8417295, 'ParameterValue': 0.9984652}, {'Time': 1.8441133, 'ParameterValue': 0.9873178}, {'Time': 1.8492476, 'ParameterValue': 0.99501437}, {'Time': 1.879862, 'ParameterValue': 1.0}, {'Time': 1.8850658, 'ParameterValue': 0.99026334}, {'Time': 1.8894665, 'ParameterValue': 0.99642056}, {'Time': 1.9075159, 'ParameterValue': 0.9950444}, {'Time': 1.9089829, 'ParameterValue': 0.99993277}, {'Time': 1.919618, 'ParameterValue': 0.99962723}, {'Time': 1.923652, 'ParameterValue': 0.9889401}, {'Time': 1.9300442, 'ParameterValue': 0.99748766}, {'Time': 1.944936, 'ParameterValue': 0.99363923}, {'Time': 1.9484965, 'ParameterValue': 0.99812686}]}}, {'ParameterCurve': {'ParameterID': 'HapticIntensityControl', 'Time': 1.9484965, 'ParameterCurveControlPoints': [{'Time': 1.9484965, 'ParameterValue': 0.99812686}, {'Time': 1.959781, 'ParameterValue': 0.9992578}, {'Time': 1.9637358, 'ParameterValue': 0.9880835}, {'Time': 1.969275, 'ParameterValue': 0.996099}, {'Time': 2.0000453, 'ParameterValue': 1.0}]}}, {'ParameterCurve': {'ParameterID': 'HapticSharpnessControl', 'Time': 0.0, 'ParameterCurveControlPoints': [{'Time': 0.0, 'ParameterValue': 0.33169833}, {'Time': 0.0058049876, 'ParameterValue': 0.25004}, {'Time': 0.008707482, 'ParameterValue': 0.0}, {'Time': 0.23800454, 'ParameterValue': 0.0}, {'Time': 0.24090704, 'ParameterValue': 0.41960937}, {'Time': 0.24671203, 'ParameterValue': 0.9498437}, {'Time': 0.2496145, 'ParameterValue': 1.0}, {'Time': 0.2554195, 'ParameterValue': 1.0}, {'Time': 0.26122448, 'ParameterValue': 0.78960514}, {'Time': 0.36571428, 'ParameterValue': 0.79087}, {'Time': 0.48761904, 'ParameterValue': 0.78970164}, {'Time': 0.49052155, 'ParameterValue': 0.8487801}, {'Time': 0.49342406, 'ParameterValue': 0.98902476}, {'Time': 0.499229, 'ParameterValue': 1.0}, {'Time': 0.5021315, 'ParameterValue': 0.9498065}, {'Time': 0.505034, 'ParameterValue': 0.83811796}]}}, {'ParameterCurve': {'ParameterID': 'HapticSharpnessControl', 'Time': 0.505034, 'ParameterCurveControlPoints': [{'Time': 0.505034, 'ParameterValue': 0.83811796}, {'Time': 0.510839, 'ParameterValue': 0.0}, {'Time': 0.7372336, 'ParameterValue': 0.0}, {'Time': 0.740136, 'ParameterValue': 0.31199634}, {'Time': 0.74594104, 'ParameterValue': 0.903317}, {'Time': 0.74884355, 'ParameterValue': 1.0}, {'Time': 0.7546485, 'ParameterValue': 1.0}, {'Time': 0.757551, 'ParameterValue': 0.95118207}, {'Time': 0.7604535, 'ParameterValue': 0.80213857}, {'Time': 0.76335603, 'ParameterValue': 0.79023504}, {'Time': 0.98684806, 'ParameterValue': 0.7900795}, {'Time': 0.98975056, 'ParameterValue': 0.8125776}, {'Time': 0.9926531, 'ParameterValue': 0.9559241}, {'Time': 0.9955556, 'ParameterValue': 1.0}, {'Time': 0.9984581, 'ParameterValue': 1.0}, {'Time': 1.0013604, 'ParameterValue': 0.97257054}]}}, {'ParameterCurve': {'ParameterID': 'HapticSharpnessControl', 'Time': 1.0013604, 'ParameterCurveControlPoints': [{'Time': 1.0013604, 'ParameterValue': 0.97257054}, {'Time': 1.0042629, 'ParameterValue': 0.8732821}, {'Time': 1.0071654, 'ParameterValue': 0.68345124}, {'Time': 1.0100679, 'ParameterValue': 0.14869592}, {'Time': 1.0129704, 'ParameterValue': 0.0}, {'Time': 1.2364625, 'ParameterValue': 0.0}, {'Time': 1.239365, 'ParameterValue': 0.12987947}, {'Time': 1.24517, 'ParameterValue': 0.8520452}, {'Time': 1.2480725, 'ParameterValue': 1.0}, {'Time': 1.2567799, 'ParameterValue': 0.99573684}, {'Time': 1.2596824, 'ParameterValue': 0.8308339}, {'Time': 1.2625849, 'ParameterValue': 0.79023516}, {'Time': 1.4860771, 'ParameterValue': 0.78960896}, {'Time': 1.4889795, 'ParameterValue': 0.791546}, {'Time': 1.4947845, 'ParameterValue': 1.0}, {'Time': 1.5005895, 'ParameterValue': 0.9924721}]}}, {'ParameterCurve': {'ParameterID': 'HapticSharpnessControl', 'Time': 1.5005895, 'ParameterCurveControlPoints': [{'Time': 1.5005895, 'ParameterValue': 0.9924721}, {'Time': 1.503492, 'ParameterValue': 0.9031813}, {'Time': 1.5063945, 'ParameterValue': 0.75834316}, {'Time': 1.509297, 'ParameterValue': 0.3199253}, {'Time': 1.5121995, 'ParameterValue': 0.0}, {'Time': 1.738594, 'ParameterValue': 0.0}, {'Time': 1.7414966, 'ParameterValue': 0.49955842}, {'Time': 1.7473015, 'ParameterValue': 0.9827994}, {'Time': 1.750204, 'ParameterValue': 1.0}, {'Time': 1.756009, 'ParameterValue': 1.0}, {'Time': 1.7589115, 'ParameterValue': 0.8707237}, {'Time': 1.761814, 'ParameterValue': 0.7898015}, {'Time': 1.9882085, 'ParameterValue': 0.7902895}, {'Time': 1.9940135, 'ParameterValue': 1.0}, {'Time': 1.9998186, 'ParameterValue': 1.0}]}}, {'Event': {'EventType': 'HapticContinuous', 'Time': 0.0, 'EventDuration': 2.0000453, 'EventParameters': [{'ParameterID': 'HapticIntensity', 'ParameterValue': 1.0}, {'ParameterID': 'HapticSharpness', 'ParameterValue': 0.0}]}}]}\n"
     ]
    }
   ],
   "source": [
    "import json\n",
    "\n",
    "file_path = \"./AHAP_files/{}.ahap\".format(metaphor_based_vibration_index[0])\n",
    "print(file_path)\n",
    "\n",
    "with open(file_path, 'r') as file:\n",
    "    data = json.load(file)\n",
    "    print(type(data))\n",
    "    print(data)"
   ]
  },
  {
   "cell_type": "code",
   "execution_count": null,
   "metadata": {},
   "outputs": [],
   "source": [
    "def Vibration_to_AHAP(amp_list, freq_list):\n",
    "    from decimal import Decimal\n",
    "    from copy import deepcopy\n",
    "\n",
    "\n",
    "    file_template = {\n",
    "        \"Version\": 1,\n",
    "        \"Pattern\": [\n",
    "            {\n",
    "                \"ParameterCurve\": {\n",
    "                    \"ParameterID\": \"HapticIntensityControl\",\n",
    "                    \"Time\": 0.0,\n",
    "                    \"ParameterCurveControlPoints\": [\n",
    "                    ]\n",
    "                }\n",
    "            }\n",
    "\n",
    "        ]\n",
    "    }\n",
    "    \n",
    "    intensity_template = {\n",
    "                            \"Time\": 0,\n",
    "                            \"ParameterValue\": 0\n",
    "                        }\n",
    "\n",
    "    for t in range(len(amp_list)):\n",
    "        intensity = deepcopy(intensity_template)\n",
    "        intensity['Time'] = float(t / sampling_rate)\n",
    "        intensity['ParameterValue'] = amp_list[t]\n",
    "        file_template['Pattern'][0]['ParameterCurve']['ParameterCurveControlPoints'].append(intensity)\n",
    "        \n",
    "        \n",
    "    ##############\n",
    "    \n",
    "    sharpness_template = {\n",
    "                \"ParameterCurve\": {\n",
    "                    \"ParameterID\": \"HapticSharpnessControl\",\n",
    "                    \"Time\": 0.0,\n",
    "                    \"ParameterCurveControlPoints\": []\n",
    "                }\n",
    "            }\n",
    "        \n",
    "    frequency_template = {\n",
    "                            \"Time\": 0,\n",
    "                            \"ParameterValue\": 0\n",
    "                        }    \n",
    "    \n",
    "    for t in range(len(freq_list)):\n",
    "        frequency = deepcopy(frequency_template)\n",
    "        frequency['Time'] = float(t / sampling_rate)\n",
    "        frequency['ParameterValue'] = freq_list[t]\n",
    "        sharpness_template['ParameterCurve']['ParameterCurveControlPoints'].append(frequency)\n",
    "        \n",
    "        \n",
    "\n",
    "    file_template['Pattern'].append(sharpness_template)    \n",
    "    \n",
    "    \n",
    "    \n",
    "    ######\n",
    "\n",
    "    event_template = { \n",
    "        \"Event\": {\n",
    "            \"Time\": 0,\n",
    "            \"EventType\": \"HapticContinuous\",\n",
    "            \"EventDuration\": float(1 / sampling_rate),\n",
    "            \"EventParameters\": [{\n",
    "                \"ParameterID\": \"HapticIntensity\",\n",
    "                \"ParameterValue\": 0\n",
    "            }, \n",
    "            # {\n",
    "            #     \"ParameterID\": \"HapticSharpness\",\n",
    "            #     \"ParameterValue\": 0\n",
    "            # }\n",
    "            ]\n",
    "        }\n",
    "    }\n",
    "\n",
    "    event = deepcopy(event_template)\n",
    "    event['Event']['Time'] = 0\n",
    "    event['Event']['EventDuration'] = float(len(amp_list) / sampling_rate)\n",
    "    event['Event']['EventParameters'][0]['ParameterValue'] = 1\n",
    "    file_template['Pattern'].append(event)\n",
    "\n",
    "    return file_template\n",
    "\n",
    "\n",
    "def generate_ahap_files():\n",
    "    vibrations = Vibration_to_AHAP(amp_list, freq_list)\n",
    "\n",
    "    return vibrations"
   ]
  }
 ],
 "metadata": {
  "kernelspec": {
   "display_name": "Python 3.10.5 64-bit",
   "language": "python",
   "name": "python3"
  },
  "language_info": {
   "codemirror_mode": {
    "name": "ipython",
    "version": 3
   },
   "file_extension": ".py",
   "mimetype": "text/x-python",
   "name": "python",
   "nbconvert_exporter": "python",
   "pygments_lexer": "ipython3",
   "version": "3.10.5"
  },
  "orig_nbformat": 4,
  "vscode": {
   "interpreter": {
    "hash": "e585f221219ab1c8805e5fbaddd4ccbaf4370835f0b8ee5a99ecc0602622ebae"
   }
  }
 },
 "nbformat": 4,
 "nbformat_minor": 2
}
